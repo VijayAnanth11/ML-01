{
 "cells": [
  {
   "cell_type": "code",
   "execution_count": 2,
   "id": "1b45f3b6",
   "metadata": {},
   "outputs": [],
   "source": [
    "import cv2\n",
    "import numpy as np"
   ]
  },
  {
   "cell_type": "code",
   "execution_count": 3,
   "id": "75532d36",
   "metadata": {},
   "outputs": [],
   "source": [
    "def nothing(x):\n",
    "    pass"
   ]
  },
  {
   "cell_type": "code",
   "execution_count": 4,
   "id": "b140ab97",
   "metadata": {},
   "outputs": [],
   "source": [
    "image_x, image_y = 64,64"
   ]
  },
  {
   "cell_type": "code",
   "execution_count": 5,
   "id": "78a904b2",
   "metadata": {},
   "outputs": [],
   "source": [
    "from keras.models import load_model"
   ]
  },
  {
   "cell_type": "code",
   "execution_count": 6,
   "id": "7743e0ed",
   "metadata": {},
   "outputs": [],
   "source": [
    "classifier = load_model('Trained_model.h5')"
   ]
  },
  {
   "cell_type": "code",
   "execution_count": 7,
   "id": "2d544d39",
   "metadata": {},
   "outputs": [],
   "source": [
    "def predictor():\n",
    "       import numpy as np\n",
    "       from keras.preprocessing import image\n",
    "       test_image = image.load_img('1.png', target_size=(64, 64))\n",
    "       test_image = image.img_to_array(test_image)\n",
    "       test_image = np.expand_dims(test_image, axis = 0)\n",
    "       result = classifier.predict(test_image)\n",
    "       \n",
    "       if result[0][0] == 1:\n",
    "              return 'A'\n",
    "       elif result[0][1] == 1:\n",
    "              return 'B'\n",
    "       elif result[0][2] == 1:\n",
    "              return 'C'\n",
    "       elif result[0][3] == 1:\n",
    "              return 'D'\n",
    "       elif result[0][4] == 1:\n",
    "              return 'E'\n",
    "       elif result[0][5] == 1:\n",
    "              return 'F'\n",
    "       elif result[0][6] == 1:\n",
    "              return 'G'\n",
    "       elif result[0][7] == 1:\n",
    "              return 'H'\n",
    "       elif result[0][8] == 1:\n",
    "              return 'I'\n",
    "       elif result[0][9] == 1:\n",
    "              return 'J'\n",
    "       elif result[0][10] == 1:\n",
    "              return 'K'\n",
    "       elif result[0][11] == 1:\n",
    "              return 'L'\n",
    "       elif result[0][12] == 1:\n",
    "              return 'M'\n",
    "       elif result[0][13] == 1:\n",
    "              return 'N'\n",
    "       elif result[0][14] == 1:\n",
    "              return 'O'\n",
    "       elif result[0][15] == 1:\n",
    "              return 'P'\n",
    "       elif result[0][16] == 1:\n",
    "              return 'Q'\n",
    "       elif result[0][17] == 1:\n",
    "              return 'R'\n",
    "       elif result[0][18] == 1:\n",
    "              return 'S'\n",
    "       elif result[0][19] == 1:\n",
    "              return 'T'\n",
    "       elif result[0][20] == 1:\n",
    "              return 'U'\n",
    "       elif result[0][21] == 1:\n",
    "              return 'V'\n",
    "       elif result[0][22] == 1:\n",
    "              return 'W'\n",
    "       elif result[0][23] == 1:\n",
    "              return 'X'\n",
    "       elif result[0][24] == 1:\n",
    "              return 'Y'\n",
    "       elif result[0][25] == 1:\n",
    "              return 'Z'\n",
    "       \n",
    "\n",
    "       "
   ]
  },
  {
   "cell_type": "code",
   "execution_count": 8,
   "id": "8d62bb92",
   "metadata": {},
   "outputs": [],
   "source": [
    "cam = cv2.VideoCapture(0)"
   ]
  },
  {
   "cell_type": "code",
   "execution_count": 9,
   "id": "bb50ebab",
   "metadata": {},
   "outputs": [
    {
     "name": "stdout",
     "output_type": "stream",
     "text": [
      "1.png written!\n"
     ]
    },
    {
     "ename": "AttributeError",
     "evalue": "module 'keras.preprocessing.image' has no attribute 'load_img'",
     "output_type": "error",
     "traceback": [
      "\u001b[1;31m---------------------------------------------------------------------------\u001b[0m",
      "\u001b[1;31mAttributeError\u001b[0m                            Traceback (most recent call last)",
      "Cell \u001b[1;32mIn[9], line 44\u001b[0m\n\u001b[0;32m     42\u001b[0m cv2\u001b[38;5;241m.\u001b[39mimwrite(img_name, save_img)\n\u001b[0;32m     43\u001b[0m \u001b[38;5;28mprint\u001b[39m(\u001b[38;5;124m\"\u001b[39m\u001b[38;5;132;01m{}\u001b[39;00m\u001b[38;5;124m written!\u001b[39m\u001b[38;5;124m\"\u001b[39m\u001b[38;5;241m.\u001b[39mformat(img_name))\n\u001b[1;32m---> 44\u001b[0m img_text \u001b[38;5;241m=\u001b[39m \u001b[43mpredictor\u001b[49m\u001b[43m(\u001b[49m\u001b[43m)\u001b[49m\n\u001b[0;32m     47\u001b[0m \u001b[38;5;28;01mif\u001b[39;00m cv2\u001b[38;5;241m.\u001b[39mwaitKey(\u001b[38;5;241m1\u001b[39m) \u001b[38;5;241m==\u001b[39m \u001b[38;5;241m27\u001b[39m:\n\u001b[0;32m     48\u001b[0m     \u001b[38;5;28;01mbreak\u001b[39;00m\n",
      "Cell \u001b[1;32mIn[7], line 4\u001b[0m, in \u001b[0;36mpredictor\u001b[1;34m()\u001b[0m\n\u001b[0;32m      2\u001b[0m \u001b[38;5;28;01mimport\u001b[39;00m \u001b[38;5;21;01mnumpy\u001b[39;00m \u001b[38;5;28;01mas\u001b[39;00m \u001b[38;5;21;01mnp\u001b[39;00m\n\u001b[0;32m      3\u001b[0m \u001b[38;5;28;01mfrom\u001b[39;00m \u001b[38;5;21;01mkeras\u001b[39;00m\u001b[38;5;21;01m.\u001b[39;00m\u001b[38;5;21;01mpreprocessing\u001b[39;00m \u001b[38;5;28;01mimport\u001b[39;00m image\n\u001b[1;32m----> 4\u001b[0m test_image \u001b[38;5;241m=\u001b[39m \u001b[43mimage\u001b[49m\u001b[38;5;241;43m.\u001b[39;49m\u001b[43mload_img\u001b[49m(\u001b[38;5;124m'\u001b[39m\u001b[38;5;124m1.png\u001b[39m\u001b[38;5;124m'\u001b[39m, target_size\u001b[38;5;241m=\u001b[39m(\u001b[38;5;241m64\u001b[39m, \u001b[38;5;241m64\u001b[39m))\n\u001b[0;32m      5\u001b[0m test_image \u001b[38;5;241m=\u001b[39m image\u001b[38;5;241m.\u001b[39mimg_to_array(test_image)\n\u001b[0;32m      6\u001b[0m test_image \u001b[38;5;241m=\u001b[39m np\u001b[38;5;241m.\u001b[39mexpand_dims(test_image, axis \u001b[38;5;241m=\u001b[39m \u001b[38;5;241m0\u001b[39m)\n",
      "\u001b[1;31mAttributeError\u001b[0m: module 'keras.preprocessing.image' has no attribute 'load_img'"
     ]
    }
   ],
   "source": [
    "cv2.namedWindow(\"Trackbars\")\n",
    "\n",
    "cv2.createTrackbar(\"L - H\", \"Trackbars\", 0, 179, nothing)\n",
    "cv2.createTrackbar(\"L - S\", \"Trackbars\", 0, 255, nothing)\n",
    "cv2.createTrackbar(\"L - V\", \"Trackbars\", 0, 255, nothing)\n",
    "cv2.createTrackbar(\"U - H\", \"Trackbars\", 179, 179, nothing)\n",
    "cv2.createTrackbar(\"U - S\", \"Trackbars\", 255, 255, nothing)\n",
    "cv2.createTrackbar(\"U - V\", \"Trackbars\", 255, 255, nothing)\n",
    "\n",
    "cv2.namedWindow(\"test\")\n",
    "\n",
    "img_counter = 0\n",
    "\n",
    "img_text = ''\n",
    "while True:\n",
    "    ret, frame = cam.read()\n",
    "    frame = cv2.flip(frame,1)\n",
    "    l_h = cv2.getTrackbarPos(\"L - H\", \"Trackbars\")\n",
    "    l_s = cv2.getTrackbarPos(\"L - S\", \"Trackbars\")\n",
    "    l_v = cv2.getTrackbarPos(\"L - V\", \"Trackbars\")\n",
    "    u_h = cv2.getTrackbarPos(\"U - H\", \"Trackbars\")\n",
    "    u_s = cv2.getTrackbarPos(\"U - S\", \"Trackbars\")\n",
    "    u_v = cv2.getTrackbarPos(\"U - V\", \"Trackbars\")\n",
    "\n",
    "\n",
    "    img = cv2.rectangle(frame, (425,100),(625,300), (0,255,0), thickness=2, lineType=8, shift=0)\n",
    "\n",
    "    lower_blue = np.array([l_h, l_s, l_v])\n",
    "    upper_blue = np.array([u_h, u_s, u_v])\n",
    "    imcrop = img[102:298, 427:623]\n",
    "    hsv = cv2.cvtColor(imcrop, cv2.COLOR_BGR2HSV)\n",
    "    mask = cv2.inRange(hsv, lower_blue, upper_blue)\n",
    "    \n",
    "    cv2.putText(frame, img_text, (30, 400), cv2.FONT_HERSHEY_TRIPLEX, 1.5, (0, 255, 0))\n",
    "    cv2.imshow(\"test\", frame)\n",
    "    cv2.imshow(\"mask\", mask)\n",
    "    \n",
    "    #if cv2.waitKey(1) == ord('c'):\n",
    "        \n",
    "    img_name = \"1.png\"\n",
    "    save_img = cv2.resize(mask, (image_x, image_y))\n",
    "    cv2.imwrite(img_name, save_img)\n",
    "    print(\"{} written!\".format(img_name))\n",
    "    img_text = predictor()\n",
    "        \n",
    "\n",
    "    if cv2.waitKey(1) == 27:\n",
    "        break\n",
    "\n",
    "\n",
    "cam.release()\n",
    "cv2.destroyAllWindows()"
   ]
  },
  {
   "cell_type": "code",
   "execution_count": null,
   "id": "d6a39c47",
   "metadata": {},
   "outputs": [],
   "source": []
  }
 ],
 "metadata": {
  "kernelspec": {
   "display_name": "Python 3 (ipykernel)",
   "language": "python",
   "name": "python3"
  },
  "language_info": {
   "codemirror_mode": {
    "name": "ipython",
    "version": 3
   },
   "file_extension": ".py",
   "mimetype": "text/x-python",
   "name": "python",
   "nbconvert_exporter": "python",
   "pygments_lexer": "ipython3",
   "version": "3.9.13"
  }
 },
 "nbformat": 4,
 "nbformat_minor": 5
}
