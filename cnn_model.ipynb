{
 "cells": [
  {
   "cell_type": "code",
   "execution_count": 1,
   "id": "c45d0d56",
   "metadata": {},
   "outputs": [],
   "source": [
    "from keras.models import Sequential\n",
    "from keras.layers import Convolution2D\n",
    "from keras.layers import MaxPooling2D\n",
    "from keras.layers import Flatten\n",
    "from keras.layers import Dense, Dropout\n",
    "from keras import optimizers"
   ]
  },
  {
   "cell_type": "code",
   "execution_count": 2,
   "id": "3f6e8737",
   "metadata": {},
   "outputs": [],
   "source": [
    "classifier = Sequential()"
   ]
  },
  {
   "cell_type": "code",
   "execution_count": 3,
   "id": "b7a734cf",
   "metadata": {},
   "outputs": [],
   "source": [
    "classifier.add(Convolution2D(32, 3,  3, input_shape = (64, 64, 3), activation = 'relu'))"
   ]
  },
  {
   "cell_type": "code",
   "execution_count": 4,
   "id": "570fb1ee",
   "metadata": {},
   "outputs": [],
   "source": [
    "classifier.add(MaxPooling2D(pool_size =(2,2)))"
   ]
  },
  {
   "cell_type": "code",
   "execution_count": 5,
   "id": "5f9df602",
   "metadata": {},
   "outputs": [],
   "source": [
    "classifier.add(Convolution2D(32, 3,  3, activation = 'relu'))\n",
    "classifier.add(MaxPooling2D(pool_size =(2,2)))"
   ]
  },
  {
   "cell_type": "code",
   "execution_count": 7,
   "id": "88985469",
   "metadata": {},
   "outputs": [],
   "source": [
    "classifier.add(Flatten())"
   ]
  },
  {
   "cell_type": "code",
   "execution_count": 8,
   "id": "cb92a912",
   "metadata": {},
   "outputs": [],
   "source": [
    "classifier.add(Dense(256, activation = 'relu'))\n",
    "classifier.add(Dropout(0.5))\n",
    "classifier.add(Dense(26, activation = 'softmax'))"
   ]
  },
  {
   "cell_type": "code",
   "execution_count": 9,
   "id": "44efb98a",
   "metadata": {},
   "outputs": [
    {
     "name": "stderr",
     "output_type": "stream",
     "text": [
      "C:\\Users\\Futuremind\\AppData\\Local\\Programs\\Python\\Python39\\lib\\site-packages\\keras\\optimizers\\legacy\\gradient_descent.py:114: UserWarning: The `lr` argument is deprecated, use `learning_rate` instead.\n",
      "  super().__init__(name, **kwargs)\n"
     ]
    }
   ],
   "source": [
    "classifier.compile(\n",
    "              optimizer = optimizers.SGD(lr = 0.01),\n",
    "              loss = 'categorical_crossentropy',\n",
    "              metrics = ['accuracy'])"
   ]
  },
  {
   "cell_type": "code",
   "execution_count": 10,
   "id": "6f292a32",
   "metadata": {},
   "outputs": [],
   "source": [
    "from keras.preprocessing.image import ImageDataGenerator\n",
    "train_datagen = ImageDataGenerator(\n",
    "        rescale=1./255,\n",
    "        shear_range=0.2,\n",
    "        zoom_range=0.2,\n",
    "        horizontal_flip=True)"
   ]
  },
  {
   "cell_type": "code",
   "execution_count": 11,
   "id": "d600aea9",
   "metadata": {},
   "outputs": [],
   "source": [
    "test_datagen = ImageDataGenerator(rescale=1./255)"
   ]
  },
  {
   "cell_type": "code",
   "execution_count": 12,
   "id": "892e34c2",
   "metadata": {},
   "outputs": [
    {
     "name": "stdout",
     "output_type": "stream",
     "text": [
      "Found 45500 images belonging to 26 classes.\n"
     ]
    }
   ],
   "source": [
    "training_set = train_datagen.flow_from_directory(\n",
    "        'mydata/training_set',\n",
    "        target_size=(64, 64),\n",
    "        batch_size=32,\n",
    "        class_mode='categorical')"
   ]
  },
  {
   "cell_type": "code",
   "execution_count": 13,
   "id": "564a9c6d",
   "metadata": {},
   "outputs": [
    {
     "name": "stdout",
     "output_type": "stream",
     "text": [
      "Found 6500 images belonging to 26 classes.\n"
     ]
    }
   ],
   "source": [
    "test_set = test_datagen.flow_from_directory(\n",
    "        'mydata/test_set',\n",
    "        target_size=(64, 64),\n",
    "        batch_size=32,\n",
    "        class_mode='categorical')"
   ]
  },
  {
   "cell_type": "code",
   "execution_count": 14,
   "id": "fd2e0d4b",
   "metadata": {},
   "outputs": [
    {
     "name": "stderr",
     "output_type": "stream",
     "text": [
      "C:\\Users\\Futuremind\\AppData\\Local\\Temp\\ipykernel_10008\\3303931081.py:1: UserWarning: `Model.fit_generator` is deprecated and will be removed in a future version. Please use `Model.fit`, which supports generators.\n",
      "  model = classifier.fit_generator(\n"
     ]
    },
    {
     "name": "stdout",
     "output_type": "stream",
     "text": [
      "Epoch 1/25\n",
      "800/800 [==============================] - ETA: 0s - loss: 3.2392 - accuracy: 0.0546WARNING:tensorflow:Your input ran out of data; interrupting training. Make sure that your dataset or generator can generate at least `steps_per_epoch * epochs` batches (in this case, 6500 batches). You may need to use the repeat() function when building your dataset.\n",
      "800/800 [==============================] - 568s 703ms/step - loss: 3.2392 - accuracy: 0.0546 - val_loss: 3.2197 - val_accuracy: 0.0651\n",
      "Epoch 2/25\n",
      "800/800 [==============================] - 199s 248ms/step - loss: 3.1278 - accuracy: 0.0906\n",
      "Epoch 3/25\n",
      "800/800 [==============================] - 133s 166ms/step - loss: 2.8421 - accuracy: 0.1563\n",
      "Epoch 4/25\n",
      "800/800 [==============================] - 101s 126ms/step - loss: 2.4512 - accuracy: 0.2539\n",
      "Epoch 5/25\n",
      "800/800 [==============================] - 91s 114ms/step - loss: 2.1358 - accuracy: 0.3227\n",
      "Epoch 6/25\n",
      "800/800 [==============================] - 89s 111ms/step - loss: 1.9459 - accuracy: 0.3745\n",
      "Epoch 7/25\n",
      "800/800 [==============================] - 84s 105ms/step - loss: 1.7974 - accuracy: 0.4182\n",
      "Epoch 8/25\n",
      "800/800 [==============================] - 84s 105ms/step - loss: 1.6957 - accuracy: 0.4474\n",
      "Epoch 9/25\n",
      "800/800 [==============================] - 84s 105ms/step - loss: 1.6163 - accuracy: 0.4643\n",
      "Epoch 10/25\n",
      "800/800 [==============================] - 83s 104ms/step - loss: 1.5268 - accuracy: 0.4951\n",
      "Epoch 11/25\n",
      "800/800 [==============================] - 86s 108ms/step - loss: 1.4753 - accuracy: 0.5136\n",
      "Epoch 12/25\n",
      "800/800 [==============================] - 119s 149ms/step - loss: 1.4116 - accuracy: 0.5299\n",
      "Epoch 13/25\n",
      "800/800 [==============================] - 138s 173ms/step - loss: 1.3758 - accuracy: 0.5412\n",
      "Epoch 14/25\n",
      "800/800 [==============================] - 104s 131ms/step - loss: 1.3175 - accuracy: 0.5584\n",
      "Epoch 15/25\n",
      "800/800 [==============================] - 82s 103ms/step - loss: 1.2788 - accuracy: 0.5648\n",
      "Epoch 16/25\n",
      "800/800 [==============================] - 68s 85ms/step - loss: 1.2546 - accuracy: 0.5773\n",
      "Epoch 17/25\n",
      "800/800 [==============================] - 67s 83ms/step - loss: 1.2288 - accuracy: 0.5852\n",
      "Epoch 18/25\n",
      "800/800 [==============================] - 74s 92ms/step - loss: 1.1996 - accuracy: 0.5958\n",
      "Epoch 19/25\n",
      "800/800 [==============================] - 63s 78ms/step - loss: 1.1794 - accuracy: 0.5982\n",
      "Epoch 20/25\n",
      "800/800 [==============================] - 60s 74ms/step - loss: 1.1465 - accuracy: 0.6095\n",
      "Epoch 21/25\n",
      "800/800 [==============================] - 57s 72ms/step - loss: 1.1343 - accuracy: 0.6153\n",
      "Epoch 22/25\n",
      "800/800 [==============================] - 60s 75ms/step - loss: 1.1098 - accuracy: 0.6194\n",
      "Epoch 23/25\n",
      "800/800 [==============================] - 65s 82ms/step - loss: 1.0941 - accuracy: 0.6297\n",
      "Epoch 24/25\n",
      "800/800 [==============================] - 68s 84ms/step - loss: 1.0852 - accuracy: 0.6334\n",
      "Epoch 25/25\n",
      "800/800 [==============================] - 67s 84ms/step - loss: 1.0702 - accuracy: 0.6358\n"
     ]
    }
   ],
   "source": [
    "model = classifier.fit_generator(\n",
    "        training_set,\n",
    "        steps_per_epoch=800,\n",
    "        epochs=25,\n",
    "        validation_data = test_set,\n",
    "        validation_steps = 6500\n",
    "      )"
   ]
  },
  {
   "cell_type": "code",
   "execution_count": 16,
   "id": "34570994",
   "metadata": {},
   "outputs": [
    {
     "data": {
      "text/plain": [
       "\"#Saving the model\\nimport h5py\\nclassifier.save('Trained_model.h5')\""
      ]
     },
     "execution_count": 16,
     "metadata": {},
     "output_type": "execute_result"
    }
   ],
   "source": [
    "'''#Saving the model\n",
    "import h5py\n",
    "classifier.save('Trained_model.h5')'''"
   ]
  },
  {
   "cell_type": "code",
   "execution_count": 17,
   "id": "9079f88b",
   "metadata": {},
   "outputs": [
    {
     "name": "stdout",
     "output_type": "stream",
     "text": [
      "dict_keys(['loss', 'accuracy', 'val_loss', 'val_accuracy'])\n"
     ]
    }
   ],
   "source": [
    "print(model.history.keys())"
   ]
  },
  {
   "cell_type": "code",
   "execution_count": 18,
   "id": "9168bf5d",
   "metadata": {},
   "outputs": [],
   "source": [
    "import matplotlib.pyplot as plt"
   ]
  },
  {
   "cell_type": "code",
   "execution_count": 22,
   "id": "bc936c08",
   "metadata": {},
   "outputs": [
    {
     "data": {
      "image/png": "[encoded data removed]",
      "text/plain": [
       "<Figure size 640x480 with 1 Axes>"
      ]
     },
     "metadata": {},
     "output_type": "display_data"
    }
   ],
   "source": [
    "plt.plot(model.history['accuracy'])\n",
    "plt.plot(model.history['val_accuracy'])\n",
    "plt.title('model accuracy')\n",
    "plt.ylabel('accuracy')\n",
    "plt.xlabel('epoch')\n",
    "plt.legend(['train', 'test'], loc='upper left')\n",
    "plt.show()"
   ]
  },
  {
   "cell_type": "code",
   "execution_count": 21,
   "id": "09ba0d1c",
   "metadata": {},
   "outputs": [
    {
     "data": {
      "image/png": "[encoded data removed]",
      "text/plain": [
       "<Figure size 640x480 with 1 Axes>"
      ]
     },
     "metadata": {},
     "output_type": "display_data"
    }
   ],
   "source": [
    "plt.plot(model.history['loss'])\n",
    "plt.plot(model.history['val_loss'])\n",
    "plt.title('model loss')\n",
    "plt.ylabel('loss')\n",
    "plt.xlabel('epoch')\n",
    "plt.legend(['train', 'test'], loc='upper left')\n",
    "plt.show()"
   ]
  },
  {
   "cell_type": "code",
   "execution_count": 24,
   "id": "19c6b7b4",
   "metadata": {},
   "outputs": [],
   "source": [
    "import h5py\n",
    "classifier.save('Trained_model.h5')"
   ]
  },
  {
   "cell_type": "code",
   "execution_count": null,
   "id": "140fb6e2",
   "metadata": {},
   "outputs": [],
   "source": []
  }
 ],
 "metadata": {
  "kernelspec": {
   "display_name": "Python 3 (ipykernel)",
   "language": "python",
   "name": "python3"
  },
  "language_info": {
   "codemirror_mode": {
    "name": "ipython",
    "version": 3
   },
   "file_extension": ".py",
   "mimetype": "text/x-python",
   "name": "python",
   "nbconvert_exporter": "python",
   "pygments_lexer": "ipython3",
   "version": "3.9.13"
  }
 },
 "nbformat": 4,
 "nbformat_minor": 5
}
